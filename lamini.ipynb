{
 "cells": [
  {
   "cell_type": "code",
   "execution_count": 1,
   "id": "d6183df8",
   "metadata": {},
   "outputs": [],
   "source": [
    "%%capture\n",
    "!pip install python-dotenv"
   ]
  },
  {
   "cell_type": "code",
   "execution_count": 2,
   "id": "05313e3f",
   "metadata": {},
   "outputs": [],
   "source": [
    "%%capture\n",
    "!pip install lamini"
   ]
  },
  {
   "cell_type": "code",
   "execution_count": 17,
   "id": "cb7de054",
   "metadata": {},
   "outputs": [
    {
     "name": "stdout",
     "output_type": "stream",
     "text": [
      "TEST_ENV_VAR_VALUE\n"
     ]
    }
   ],
   "source": [
    "from dotenv import load_dotenv\n",
    "import os\n",
    "\n",
    "# Assuming your .env file is in the same directory as your Jupyter notebook\n",
    "# If it's in a different directory, provide the full path to the .env file\n",
    "load_dotenv('.env')  # or load_dotenv('/path/to/your/.env')\n",
    "\n",
    "# Now you can access the environment variables using os.environ\n",
    "test_env_var = os.environ.get('TEST_ENV_VAR')\n",
    "print(test_env_var)"
   ]
  },
  {
   "cell_type": "code",
   "execution_count": 18,
   "id": "930a50d2",
   "metadata": {},
   "outputs": [
    {
     "name": "stdout",
     "output_type": "stream",
     "text": [
      " I hope you are doing well.\n",
      "I am writing to you today to ask for your help. As you may know, I am a big fan of your work and I have been following your career for many years. I must say, you are an inspiration to me and many others.\n",
      "\n",
      "I am reaching out to you because I am in a bit of a difficult situation and I was hoping you could offer me some advice. You see, I have been struggling with [insert problem here] and I am not sure how to handle it. I have tried [insert solutions here] but they have not worked for me. I was hoping you could share some of your wisdom and experience with me.\n",
      "\n",
      "I know that you are a very busy person, but I would be forever grateful if you could take the time to respond to my message. I promise to keep your advice confidential and to use it to help me overcome my problem.\n",
      "\n",
      "Thank you in advance for your time and consideration. I look forward to hearing from you soon.\n",
      "\n",
      "Sincerely,\n",
      "[Your Name]\n"
     ]
    }
   ],
   "source": [
    "import lamini\n",
    "lamini.api_key = os.environ.get('LAMINI_API_KEY')\n",
    "\n",
    "llm = lamini.Lamini(\"meta-llama/Llama-2-7b-chat-hf\")\n",
    "print(llm.generate(\"How are you?\"))"
   ]
  },
  {
   "cell_type": "code",
   "execution_count": 22,
   "id": "75880424",
   "metadata": {},
   "outputs": [],
   "source": [
    "input_str = \"\"\"\n",
    "You assist the user in interacting with a task manager app VANiLla by making calls to predefined Python methods:\n",
    "```python\n",
    "def help(func_name: Optional[string]):\n",
    "  pass\n",
    "def add(task_name: string, assignee_name: Optional[string], deadline: Optional[string], list_name: Optional[string]):\n",
    "  pass\n",
    "def list(list_name: Optional[string]):\n",
    "  pass\n",
    "def search(task_name: string, assignee_name: Optional[string], deadline_period: Optional[string]):\n",
    "  pass\n",
    "```\n",
    "Don't explain yourself, only make calls to the methods above, wrapped in a \"Python\" code block. Don't import anything.\n",
    "\n",
    "User's query: add a task to file taxes.\n",
    "\n",
    "Method calls required to fulfill the user's query:\n",
    "\"\"\""
   ]
  },
  {
   "cell_type": "code",
   "execution_count": 23,
   "id": "2062cee6",
   "metadata": {},
   "outputs": [
    {
     "name": "stdout",
     "output_type": "stream",
     "text": [
      "\n",
      "You assist the user in interacting with a task manager app VANiLla by making calls to predefined Python methods:\n",
      "```python\n",
      "def help(func_name: Optional[string]):\n",
      "  pass\n",
      "def add(task_name: string, assignee_name: Optional[string], deadline: Optional[string], list_name: Optional[string]):\n",
      "  pass\n",
      "def list(list_name: Optional[string]):\n",
      "  pass\n",
      "def search(task_name: string, assignee_name: Optional[string], deadline_period: Optional[string]):\n",
      "  pass\n",
      "```\n",
      "Don't explain yourself, only make calls to the methods above, wrapped in a \"Python\" code block. Don't import anything.\n",
      "\n",
      "User's query: add a task to file taxes.\n",
      "\n",
      "Method calls required to fulfill the user's query:\n",
      "\n"
     ]
    }
   ],
   "source": [
    "print(input_str)"
   ]
  },
  {
   "cell_type": "code",
   "execution_count": 24,
   "id": "b4a4e3e7",
   "metadata": {},
   "outputs": [
    {
     "name": "stdout",
     "output_type": "stream",
     "text": [
      "\n",
      "* `help()` (to display the available methods)\n",
      "* `add(\"Taxes\", None, None, \"Important\")` (to add a task to the \"Important\" list)\n",
      "\n",
      "Please provide the Python code that fulfills the user's query.\n"
     ]
    }
   ],
   "source": [
    "print(llm.generate(input_str))"
   ]
  },
  {
   "cell_type": "code",
   "execution_count": 5,
   "id": "1d42557d-2eeb-4abd-aae7-5ac7a5307551",
   "metadata": {},
   "outputs": [],
   "source": [
    "import json\n",
    "\n",
    "# Initialize an empty list to store the JSON objects\n",
    "lamini_data = []\n",
    "\n",
    "# Open the .jsonl file and read line by line\n",
    "with open('lamini_docs.jsonl', 'r') as file:\n",
    "    for line in file:\n",
    "        # Parse the JSON line and append to the list\n",
    "        lamini_data.append(json.loads(line))"
   ]
  },
  {
   "cell_type": "code",
   "execution_count": 9,
   "id": "cf871734-9251-4ad0-a6dd-75ab21b9b343",
   "metadata": {},
   "outputs": [],
   "source": [
    "openai_data = []\n",
    "\n",
    "for line in lamini_data:\n",
    "    openai_data.append({\n",
    "        \"messages\": [{\n",
    "            \"role\": \"system\",\n",
    "            \"content\": \"\",\n",
    "        }, {\n",
    "            \"role\": \"user\",\n",
    "            \"content\": line[\"question\"],\n",
    "        }, {\n",
    "            \"role\": \"assistant\",\n",
    "            \"content\": line[\"answer\"],\n",
    "        }]\n",
    "    })"
   ]
  },
  {
   "cell_type": "code",
   "execution_count": 11,
   "id": "912fa764-5444-4fe0-853f-13c8222eeaef",
   "metadata": {},
   "outputs": [],
   "source": [
    "# Open the file in write mode ('w')\n",
    "with open(\"lamini_docs_openai.jsonl\", 'w') as file:\n",
    "    for line in openai_data:\n",
    "        # Convert the dictionary to a JSON string\n",
    "        json_str = json.dumps(line)\n",
    "        # Write the JSON string to the file, followed by a newline\n",
    "        file.write(json_str + '\\n')"
   ]
  },
  {
   "cell_type": "code",
   "execution_count": null,
   "id": "ea45a9a8-8fca-410d-aeb8-221a1edb4d38",
   "metadata": {},
   "outputs": [],
   "source": []
  }
 ],
 "metadata": {
  "kernelspec": {
   "display_name": "Python 3 (ipykernel)",
   "language": "python",
   "name": "python3"
  },
  "language_info": {
   "codemirror_mode": {
    "name": "ipython",
    "version": 3
   },
   "file_extension": ".py",
   "mimetype": "text/x-python",
   "name": "python",
   "nbconvert_exporter": "python",
   "pygments_lexer": "ipython3",
   "version": "3.8.18"
  }
 },
 "nbformat": 4,
 "nbformat_minor": 5
}
