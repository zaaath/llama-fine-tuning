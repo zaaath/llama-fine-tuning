{
 "cells": [
  {
   "cell_type": "code",
   "execution_count": 15,
   "id": "3bb1f67d",
   "metadata": {},
   "outputs": [],
   "source": [
    "%%capture\n",
    "!pip install python-dotenv"
   ]
  },
  {
   "cell_type": "code",
   "execution_count": 16,
   "id": "4e9a2461",
   "metadata": {},
   "outputs": [],
   "source": [
    "%%capture\n",
    "!pip install lamini"
   ]
  },
  {
   "cell_type": "code",
   "execution_count": 17,
   "id": "50bced84",
   "metadata": {},
   "outputs": [
    {
     "name": "stdout",
     "output_type": "stream",
     "text": [
      "TEST_ENV_VAR_VALUE\n"
     ]
    }
   ],
   "source": [
    "from dotenv import load_dotenv\n",
    "import os\n",
    "\n",
    "# Assuming your .env file is in the same directory as your Jupyter notebook\n",
    "# If it's in a different directory, provide the full path to the .env file\n",
    "load_dotenv('.env')  # or load_dotenv('/path/to/your/.env')\n",
    "\n",
    "# Now you can access the environment variables using os.environ\n",
    "test_env_var = os.environ.get('TEST_ENV_VAR')\n",
    "print(test_env_var)"
   ]
  },
  {
   "cell_type": "code",
   "execution_count": 29,
   "id": "00d790b0",
   "metadata": {},
   "outputs": [
    {
     "name": "stdout",
     "output_type": "stream",
     "text": [
      " on command.\n",
      "Training a dog to sit on command is a basic obedience command that can be achieved with patience, consistency, and positive reinforcement. Here's a step-by-step guide on how to train your dog to sit on command:\n",
      "\n",
      "1. Choose a quiet and distraction-free area: Find a quiet area with minimal distractions where your dog can focus on you.\n",
      "2. Have treats ready: Choose your dog's favorite treats and have them ready to use as rewards.\n",
      "3. Stand in front of your dog: Stand in front of your dog and hold a treat close to their nose.\n",
      "4. Move the treat up and back: Slowly move the treat up and back, towards your dog's tail, while saying \"sit\" in a calm and clear voice.\n",
      "5. Dog will sit: As you move the treat, your dog will naturally sit down to follow the treat. The moment their bottom touches the ground, say \"good sit\" and give them the treat.\n",
      "6. Repeat the process: Repeat steps 3-5 several times, so your dog starts to associate the command \"sit\" with the action of sitting down.\n",
      "7. Gradually phase out the treats: As your dog becomes more comfortable with the command, start to phase out the treats. Instead, use praise and affection as rewards.\n",
      "8. Practice, practice, practice: Practice the \"sit\" command in different locations, with different distractions, and at different times of the day. This will help your dog understand that the command is not just a trick, but a basic obedience command.\n",
      "9. Be consistent: Consistency is key when training a dog. Make sure everyone in the household is using the same command and reward system.\n",
      "10. Be patient: Training a dog takes time and patience. Don't get frustrated if your dog doesn't pick up the command immediately. Keep practicing and eventually, your dog will learn.\n",
      "\n",
      "Remember, training a dog is a journey, and it's important to be patient, consistent, and positive. With time and practice, your dog will learn to sit on command and other basic obedience commands.\n"
     ]
    }
   ],
   "source": [
    "import lamini\n",
    "lamini.api_key = os.environ.get('LAMINI_API_KEY')\n",
    "\n",
    "# llm = lamini.Lamini(\"meta-llama/Llama-2-7b-hf\")\n",
    "llm = lamini.Lamini(\"meta-llama/Llama-2-7b-chat-hf\")\n",
    "# llm = lamini.Lamini(\"EleutherAI/pythia-410m\")\n",
    "print(llm.generate(\"Tell me how to train my dog to sit\"))"
   ]
  },
  {
   "cell_type": "code",
   "execution_count": 32,
   "id": "92a805f3",
   "metadata": {},
   "outputs": [
    {
     "name": "stdout",
     "output_type": "stream",
     "text": [
      "\n",
      "Your dataset id is: 4e8a16a44d2abfdc273668520e818dd42e5125f79d291d089f0edd89a58ae94a . Consider using this in the future to train using the same data. \n",
      "Eg: llm.train(dataset_id='4e8a16a44d2abfdc273668520e818dd42e5125f79d291d089f0edd89a58ae94a')\n",
      "\n",
      "Uploading data....\n",
      "Upload to blob completed for data.\n",
      "Data pairs uploaded to blob.\n",
      "Training job submitted! Check status of job 5018 here: https://app.lamini.ai/train/5018\n",
      "Finetuning process completed, model name is: 0e250e4d5ff315c241498fa06fea93cb4fed0f9ed6b96ce523839da52d0f4a14\n"
     ]
    }
   ],
   "source": [
    "from llama import BasicModelRunner\n",
    "\n",
    "pythia_llm = BasicModelRunner(\"EleutherAI/pythia-410m\")\n",
    "pythia_llm.load_data_from_jsonlines(\"lamini_docs.jsonl\", input_key=\"question\", output_key=\"answer\")\n",
    "pythia_llm.train(is_public=True)"
   ]
  },
  {
   "cell_type": "code",
   "execution_count": 33,
   "id": "e5352844",
   "metadata": {},
   "outputs": [
    {
     "name": "stdout",
     "output_type": "stream",
     "text": [
      "\n",
      "Your dataset id is: 095745a14767cf96c3dec3856efd8172376a3adcbef58f271c79ab13fd0eb95a . Consider using this in the future to train using the same data. \n",
      "Eg: llm.train(dataset_id='095745a14767cf96c3dec3856efd8172376a3adcbef58f271c79ab13fd0eb95a')\n",
      "\n",
      "Uploading data....\n",
      "Upload to blob completed for data.\n",
      "Data pairs uploaded to blob.\n",
      "Training job submitted! Check status of job 5019 here: https://app.lamini.ai/train/5019\n",
      "Finetuning process completed, model name is: 45fd5d10a3fc87793b2c5c6941eb99307ba6de6a6340c00e6424220e3e7ecc83\n"
     ]
    }
   ],
   "source": [
    "from llama import BasicModelRunner\n",
    "\n",
    "llama2_7b_llm = BasicModelRunner(\"meta-llama/Llama-2-7b-hf\")\n",
    "llama2_7b_llm.load_data_from_jsonlines(\"lamini_docs.jsonl\", input_key=\"question\", output_key=\"answer\")\n",
    "llama2_7b_llm.train(is_public=True)"
   ]
  },
  {
   "cell_type": "code",
   "execution_count": 22,
   "id": "a2356eaa",
   "metadata": {},
   "outputs": [],
   "source": [
    "input_str = \"\"\"\n",
    "You assist the user in interacting with a task manager app VANiLla by making calls to predefined Python methods:\n",
    "```python\n",
    "def help(func_name: Optional[string]):\n",
    "  pass\n",
    "def add(task_name: string, assignee_name: Optional[string], deadline: Optional[string], list_name: Optional[string]):\n",
    "  pass\n",
    "def list(list_name: Optional[string]):\n",
    "  pass\n",
    "def search(task_name: string, assignee_name: Optional[string], deadline_period: Optional[string]):\n",
    "  pass\n",
    "```\n",
    "Don't explain yourself, only make calls to the methods above, wrapped in a \"Python\" code block. Don't import anything.\n",
    "\n",
    "User's query: add a task to file taxes.\n",
    "\n",
    "Method calls required to fulfill the user's query:\n",
    "\"\"\""
   ]
  },
  {
   "cell_type": "code",
   "execution_count": 23,
   "id": "3cbcb55b",
   "metadata": {},
   "outputs": [
    {
     "name": "stdout",
     "output_type": "stream",
     "text": [
      "\n",
      "You assist the user in interacting with a task manager app VANiLla by making calls to predefined Python methods:\n",
      "```python\n",
      "def help(func_name: Optional[string]):\n",
      "  pass\n",
      "def add(task_name: string, assignee_name: Optional[string], deadline: Optional[string], list_name: Optional[string]):\n",
      "  pass\n",
      "def list(list_name: Optional[string]):\n",
      "  pass\n",
      "def search(task_name: string, assignee_name: Optional[string], deadline_period: Optional[string]):\n",
      "  pass\n",
      "```\n",
      "Don't explain yourself, only make calls to the methods above, wrapped in a \"Python\" code block. Don't import anything.\n",
      "\n",
      "User's query: add a task to file taxes.\n",
      "\n",
      "Method calls required to fulfill the user's query:\n",
      "\n"
     ]
    }
   ],
   "source": [
    "print(input_str)"
   ]
  },
  {
   "cell_type": "code",
   "execution_count": 24,
   "id": "3da3d68f",
   "metadata": {},
   "outputs": [
    {
     "name": "stdout",
     "output_type": "stream",
     "text": [
      "\n",
      "* `help()` (to display the available methods)\n",
      "* `add(\"Taxes\", None, None, \"Important\")` (to add a task to the \"Important\" list)\n",
      "\n",
      "Please provide the Python code that fulfills the user's query.\n"
     ]
    }
   ],
   "source": [
    "print(llm.generate(input_str))"
   ]
  }
 ],
 "metadata": {
  "kernelspec": {
   "display_name": "Python 3 (ipykernel)",
   "language": "python",
   "name": "python3"
  },
  "language_info": {
   "codemirror_mode": {
    "name": "ipython",
    "version": 3
   },
   "file_extension": ".py",
   "mimetype": "text/x-python",
   "name": "python",
   "nbconvert_exporter": "python",
   "pygments_lexer": "ipython3",
   "version": "3.8.16"
  }
 },
 "nbformat": 4,
 "nbformat_minor": 5
}
